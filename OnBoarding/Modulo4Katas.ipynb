{
 "cells": [
  {
   "cell_type": "markdown",
   "metadata": {},
   "source": [
    "# Ejercicio 1"
   ]
  },
  {
   "cell_type": "code",
   "execution_count": 6,
   "metadata": {},
   "outputs": [
    {
     "name": "stdout",
     "output_type": "stream",
     "text": [
      " \n",
      "On average, the Moon moves 4cm away from the Earth every year\n",
      " The highest daylight temperature of the Moon is 127 Celsius\n"
     ]
    }
   ],
   "source": [
    "text = \"\"\"Interesting facts about the Moon. The Moon is Earth's only satellite. There are several interesting facts about the Moon and how it affects life here on Earth. \n",
    "On average, the Moon moves 4cm away from the Earth every year. This yearly drift is not significant enough to cause immediate effects on Earth. The highest daylight temperature of the Moon is 127 C.\"\"\"\n",
    "\n",
    "phrases = text.split('.')\n",
    "keywords = ['average', 'temperature', 'distance']\n",
    "for phrase in phrases:\n",
    "  phrase = phrase.replace('C', 'Celsius')\n",
    "  for keyword in keywords:\n",
    "    if(keyword in phrase):\n",
    "      print(phrase)\n",
    "      break\n",
    "# print(phrases)"
   ]
  },
  {
   "cell_type": "markdown",
   "metadata": {},
   "source": [
    "# Ejercicio 2"
   ]
  },
  {
   "cell_type": "code",
   "execution_count": 9,
   "metadata": {},
   "outputs": [
    {
     "name": "stdout",
     "output_type": "stream",
     "text": [
      " Interesting Facts About Gravity On Moon\n",
      "- - - - - - - - - - - - - - - - - - - - - - - - \n",
      "Gravity on Moon: 1.6199999999999999 m/s2\n",
      "Planet name: Earth\n",
      "\n",
      " Interesting Facts About Gravity On Ganímedes\n",
      "- - - - - - - - - - - - - - - - - - - - - - - - \n",
      "Gravity on Ganímedes: 1.4300000000000002 m/s2\n",
      "Planet name: Marte\n",
      "\n"
     ]
    }
   ],
   "source": [
    "# Datos con los que vas a trabajar\n",
    "name = \"Moon\"\n",
    "gravity = 0.00162 # in kms\n",
    "gravityInMeters = gravity*1000\n",
    "planet = \"Earth\"\n",
    "\n",
    "title = \"Interesting facts about gravity on {}\".format(name)\n",
    "\n",
    "template = \"\"\" {0}\n",
    "- - - - - - - - - - - - - - - - - - - - - - - - \n",
    "Gravity on {3}: {2} m/s2\n",
    "Planet name: {1}\n",
    "\"\"\"\n",
    "\n",
    "print(template.format(title.title(), planet, gravityInMeters, name))\n",
    "\n",
    "planet = 'Marte'\n",
    "gravity  = 0.00143\n",
    "gravityInMeters = gravity*1000\n",
    "name = 'Ganímedes'\n",
    "\n",
    "title = \"Interesting facts about gravity on {}\".format(name)\n",
    "print(template.format(title.title(), planet, gravityInMeters, name))"
   ]
  }
 ],
 "metadata": {
  "interpreter": {
   "hash": "916dbcbb3f70747c44a77c7bcd40155683ae19c65e1c03b4aa3499c5328201f1"
  },
  "kernelspec": {
   "display_name": "Python 3.8.10 64-bit",
   "language": "python",
   "name": "python3"
  },
  "language_info": {
   "codemirror_mode": {
    "name": "ipython",
    "version": 3
   },
   "file_extension": ".py",
   "mimetype": "text/x-python",
   "name": "python",
   "nbconvert_exporter": "python",
   "pygments_lexer": "ipython3",
   "version": "3.8.10"
  },
  "orig_nbformat": 4
 },
 "nbformat": 4,
 "nbformat_minor": 2
}
