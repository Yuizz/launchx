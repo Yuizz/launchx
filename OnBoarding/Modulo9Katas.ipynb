{
 "cells": [
  {
   "cell_type": "markdown",
   "metadata": {},
   "source": [
    "# Ejercicio: Uso de funciones en Python"
   ]
  },
  {
   "cell_type": "code",
   "execution_count": 5,
   "metadata": {},
   "outputs": [
    {
     "name": "stdout",
     "output_type": "stream",
     "text": [
      "\n",
      "  El promedio del combustible de los tanques es: 3.3333333333333335\n",
      "  - - - - - - - - - - - - - - - - - - - - - - - - - - \n",
      "  El combustible del primer tanque es: 2\n",
      "  El combustible del segundo tanque es: 3\n",
      "  El combustible del tercer tanque es: 5\n",
      "  \n"
     ]
    }
   ],
   "source": [
    "#Funcion que devuelve el promedio de 3 tanques:\n",
    "def promedioTanques(tanque1, tanque2, tanque3):\n",
    "  suma_tanques = tanque1 + tanque2 + tanque3\n",
    "  resultado = suma_tanques / 3\n",
    "  return resultado\n",
    "\n",
    "# Función para leer 3 tanques de combustible y muestre el promedio\n",
    "def FuelReport(tanque1, tanque2, tanque3):\n",
    "  promedio = promedioTanques(tanque1, tanque2, tanque3)\n",
    "  return \"\"\"\n",
    "  El promedio del combustible de los tanques es: {0}\n",
    "  - - - - - - - - - - - - - - - - - - - - - - - - - - \n",
    "  El combustible del primer tanque es: {1}\n",
    "  El combustible del segundo tanque es: {2}\n",
    "  El combustible del tercer tanque es: {3}\n",
    "  \"\"\".format(promedio, tanque1, tanque2, tanque3)\n",
    "\n",
    "print(FuelReport(2, 3, 5))"
   ]
  },
  {
   "cell_type": "markdown",
   "metadata": {},
   "source": [
    "# Ejercicio 2: Trabajo con argumentos de palabra clave"
   ]
  },
  {
   "cell_type": "code",
   "execution_count": 8,
   "metadata": {},
   "outputs": [
    {
     "name": "stdout",
     "output_type": "stream",
     "text": [
      " La mision Apolo 11\n",
      "  Tendrá su prelanzamiento a las 19:00 horas\n",
      "  Con un tiempo de vuelo de 1250 minutos\n",
      "  El tanque externo contiene 12 litros\n",
      "  El tanque interno contiene 12312 litros\n",
      "  \n",
      " La mision LaunchX\n",
      "  Tendrá su prelanzamiento a las 20:00 horas\n",
      "  Con un tiempo de total de vuelo de 179 minutos\n",
      "  Con una reserva total de combustible de: 12362\n",
      "  \n"
     ]
    }
   ],
   "source": [
    "# Función con un informe preciso de la misión. Considera hora de prelanzamiento, tiempo de vuelo, destino, tanque externo y tanque interno\n",
    "def MissionReport(mission_name, pre_launch_time, flight_time, external_tank, internal_tank):\n",
    "  return \"\"\" La mision {0}\n",
    "  Tendrá su prelanzamiento a las {1} horas\n",
    "  Con un tiempo de vuelo de {2} minutos\n",
    "  El tanque externo contiene {3} litros\n",
    "  El tanque interno contiene {4} litros\n",
    "  \"\"\".format(mission_name, pre_launch_time, flight_time, external_tank, internal_tank)\n",
    "\n",
    "print(MissionReport('Apolo 11', '19:00', 1250, 12, 12312 ))\n",
    "\n",
    "def MissionReport_argskwargs(mission_name, pre_launch_time, *minutes, **tanks):\n",
    "  return \"\"\" La mision {0}\n",
    "  Tendrá su prelanzamiento a las {1} horas\n",
    "  Con un tiempo de total de vuelo de {2} minutos\n",
    "  Con una reserva total de combustible de: {3}\n",
    "  \"\"\".format(mission_name, pre_launch_time, sum(minutes), sum(tanks.values()) )\n",
    "\n",
    "print(MissionReport_argskwargs('LaunchX', '20:00', 59, 60, 15, 45, tanque_externo = 12350, tanque_interno=12))\n"
   ]
  }
 ],
 "metadata": {
  "interpreter": {
   "hash": "916dbcbb3f70747c44a77c7bcd40155683ae19c65e1c03b4aa3499c5328201f1"
  },
  "kernelspec": {
   "display_name": "Python 3.8.10 64-bit",
   "language": "python",
   "name": "python3"
  },
  "language_info": {
   "codemirror_mode": {
    "name": "ipython",
    "version": 3
   },
   "file_extension": ".py",
   "mimetype": "text/x-python",
   "name": "python",
   "nbconvert_exporter": "python",
   "pygments_lexer": "ipython3",
   "version": "3.8.10"
  },
  "orig_nbformat": 4
 },
 "nbformat": 4,
 "nbformat_minor": 2
}
