{
 "cells": [
  {
   "cell_type": "markdown",
   "metadata": {},
   "source": [
    "# Ejercicio 1\n",
    "#### Crear variables para almacenar las dos distancias\n",
    "#### ¡Asegúrate de quitar las comas!"
   ]
  },
  {
   "cell_type": "code",
   "execution_count": 1,
   "metadata": {},
   "outputs": [
    {
     "name": "stdout",
     "output_type": "stream",
     "text": [
      "628949330\n",
      "390577533.93\n"
     ]
    }
   ],
   "source": [
    "disTierra = 149597870\n",
    "disJupiter = 778547200\n",
    "# Calcular la distancia entre planetas\n",
    "\n",
    "difPlanetas = disJupiter - disTierra\n",
    "difPlanetasMillas = difPlanetas * 0.621 \n",
    "print(difPlanetas)\n",
    "print(difPlanetasMillas)"
   ]
  },
  {
   "cell_type": "markdown",
   "metadata": {},
   "source": [
    "# Ejercicio 2\n"
   ]
  },
  {
   "cell_type": "code",
   "execution_count": 6,
   "metadata": {},
   "outputs": [
    {
     "name": "stdout",
     "output_type": "stream",
     "text": [
      "La distancia entre los dos planetas es: 4437200000 km\n",
      "La distancia entre ambos planetas en milla es: 2755501200.0 millas\n"
     ]
    }
   ],
   "source": [
    "#Almacenar las entradas del usuario\n",
    "# Convierte las cadenas de ambos planetas a números enteros\n",
    "planeta1 = int(input('Introduce la distancia al sol del primer planeta'))\n",
    "planeta2 = int(input('Introduce la distancia al sol del segundo planeta'))\n",
    "\n",
    "#Calcular distancia entre planetas\n",
    "disPlanetas = abs(planeta1-planeta2)\n",
    "print('La distancia entre los dos planetas es:', disPlanetas, 'km')\n",
    "disPlanetasMillas = disPlanetas*0.621\n",
    "print('La distancia entre ambos planetas en milla es:', disPlanetasMillas, 'millas')\n"
   ]
  }
 ],
 "metadata": {
  "interpreter": {
   "hash": "916dbcbb3f70747c44a77c7bcd40155683ae19c65e1c03b4aa3499c5328201f1"
  },
  "kernelspec": {
   "display_name": "Python 3.8.10 64-bit",
   "language": "python",
   "name": "python3"
  },
  "language_info": {
   "codemirror_mode": {
    "name": "ipython",
    "version": 3
   },
   "file_extension": ".py",
   "mimetype": "text/x-python",
   "name": "python",
   "nbconvert_exporter": "python",
   "pygments_lexer": "ipython3",
   "version": "3.8.10"
  },
  "orig_nbformat": 4
 },
 "nbformat": 4,
 "nbformat_minor": 2
}
