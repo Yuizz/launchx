{
 "cells": [
  {
   "cell_type": "markdown",
   "metadata": {},
   "source": [
    "# Ejercicio1: Crear y usar listas de Python"
   ]
  },
  {
   "cell_type": "code",
   "execution_count": 1,
   "metadata": {},
   "outputs": [
    {
     "name": "stdout",
     "output_type": "stream",
     "text": [
      "Mercurio, Venus, Tierra, Marte, Jupiter, Saturno, Urano, Neptuno\n",
      "9\n"
     ]
    }
   ],
   "source": [
    "# Creamos la lista planets y la mostramos\n",
    "planets = ['Mercurio', 'Venus', 'Tierra', 'Marte', 'Jupiter', 'Saturno', 'Urano', 'Neptuno']\n",
    "print((', ').join(planets))\n",
    "\n",
    "# Agregamos a plutón y mostramos el último elemento\n",
    "planets.append('Pluton')\n",
    "print(len(planets))\n"
   ]
  },
  {
   "cell_type": "markdown",
   "metadata": {},
   "source": [
    "# Ejercicio 2: Trabajando con datos de una lista"
   ]
  },
  {
   "cell_type": "code",
   "execution_count": 3,
   "metadata": {},
   "outputs": [
    {
     "name": "stdout",
     "output_type": "stream",
     "text": [
      "Planetas mas cercanos al sol que Earth : Mercury, Venus\n",
      "Planetas mas lejanos al sol que Earth : Mars, Jupiter, Saturn, Neptune\n"
     ]
    }
   ],
   "source": [
    "# Lista de planetas\n",
    "planets = ['Mercury', 'Venus', 'Earth', 'Mars', 'Jupiter', 'Saturn', 'Neptune']\n",
    "\n",
    "# Solicitamos el nombre de un planeta *Pista:  input()*\n",
    "givenPlanet = input('Ingresa el nombre de un planeta')\n",
    "# Busca el planeta en la lista\n",
    "givenPlanetIndex = planets.index(givenPlanet)\n",
    "\n",
    "# Muestra los planetas más cercanos al sol\n",
    "closestPlanetsToSun = planets[:givenPlanetIndex]\n",
    "farestPlanetsToSun = planets[givenPlanetIndex+1:]\n",
    "\n",
    "print('Planetas mas cercanos al sol que', givenPlanet, ':', ', '.join(closestPlanetsToSun))\n",
    "print('Planetas mas lejanos al sol que', givenPlanet, ':', ', '.join(farestPlanetsToSun))\n"
   ]
  }
 ],
 "metadata": {
  "interpreter": {
   "hash": "916dbcbb3f70747c44a77c7bcd40155683ae19c65e1c03b4aa3499c5328201f1"
  },
  "kernelspec": {
   "display_name": "Python 3.8.10 64-bit",
   "language": "python",
   "name": "python3"
  },
  "language_info": {
   "codemirror_mode": {
    "name": "ipython",
    "version": 3
   },
   "file_extension": ".py",
   "mimetype": "text/x-python",
   "name": "python",
   "nbconvert_exporter": "python",
   "pygments_lexer": "ipython3",
   "version": "3.8.10"
  },
  "orig_nbformat": 4
 },
 "nbformat": 4,
 "nbformat_minor": 2
}
