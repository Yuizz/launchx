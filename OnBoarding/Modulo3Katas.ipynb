{
 "cells": [
  {
   "cell_type": "markdown",
   "metadata": {},
   "source": [
    "# Ejercicio - Escribir declaraciones if, else, y elif\n",
    "#### Añadir el código necesario para crear una variable que guarde la velocidad del asteroide.\n",
    "#### Escribe una expresión de prueba para calcular si necesita una advertencia.\n",
    "#### Agregue las instrucciones que se ejecutarán si la expresión de prueba es true o false."
   ]
  },
  {
   "cell_type": "code",
   "execution_count": 1,
   "metadata": {},
   "outputs": [
    {
     "name": "stdout",
     "output_type": "stream",
     "text": [
      "El asteroide va demasiado rápido!\n"
     ]
    }
   ],
   "source": [
    "velocidad_asteroide = 49\n",
    "if velocidad_asteroide > 25:\n",
    "  print(\"¡El asteroide va demasiado rápido!\") \n",
    "else:\n",
    "  print(\"El asteroide no va tan rápido para preocuparse.\")"
   ]
  },
  {
   "cell_type": "markdown",
   "metadata": {},
   "source": [
    "#### Agrega el código para crear una variable para un asteroide que viaja a 19 km/s\n",
    "#### Escribe varias expresiones de prueba para determinar si puedes ver el rayo de luz desde la tierra\n",
    "#### Agrega las instrucciones que se ejecutarán si las expresiones de prueba son True o False"
   ]
  },
  {
   "cell_type": "code",
   "execution_count": null,
   "metadata": {},
   "outputs": [],
   "source": [
    "velocidad_asteroide = 19\n",
    "\n",
    "if velocidad_asteroide >= 20:\n",
    "  "
   ]
  },
  {
   "cell_type": "markdown",
   "metadata": {},
   "source": [
    "# Ejercicio: Uso de operadores and y or"
   ]
  },
  {
   "cell_type": "markdown",
   "metadata": {},
   "source": [
    "#### Agrega el código para crear nuevas variables para la velocidad y el tamaño del asteroide\n",
    "#### Para probar el código, prueba con varias velocidades y tamaños\n",
    "#### Escribe varias expresiones de prueba o combinaciones de expresiones de prueba para determinar qué mensaje se debe enviar a Tierra."
   ]
  },
  {
   "cell_type": "code",
   "execution_count": 8,
   "metadata": {},
   "outputs": [
    {
     "name": "stdout",
     "output_type": "stream",
     "text": [
      "Un asteroide muy grande se acerca a la tierra a una velocidad peligrosa!\n"
     ]
    }
   ],
   "source": [
    "velocidad_asteroide = 26\n",
    "tamanio_asteroide = 26\n",
    "\n",
    "if tamanio_asteroide > 25 and velocidad_asteroide > 25:\n",
    "  print(\"Un asteroide muy grande se acerca a la tierra a una velocidad peligrosa!\")\n",
    "elif tamanio_asteroide > 25 and velocidad_asteroide <= 25:\n",
    "  print(\"Un asteroide muy grande se acerca a la tierra!\")\n",
    "elif tamanio_asteroide <=25 and velocidad_asteroide > 25:\n",
    "  print(\"Un asteroide se acerca a la tierra muy rápido!\")\n",
    "else: \n",
    "  print(\"No hay peligro\")\n"
   ]
  }
 ],
 "metadata": {
  "interpreter": {
   "hash": "916dbcbb3f70747c44a77c7bcd40155683ae19c65e1c03b4aa3499c5328201f1"
  },
  "kernelspec": {
   "display_name": "Python 3.8.10 64-bit",
   "language": "python",
   "name": "python3"
  },
  "language_info": {
   "codemirror_mode": {
    "name": "ipython",
    "version": 3
   },
   "file_extension": ".py",
   "mimetype": "text/x-python",
   "name": "python",
   "nbconvert_exporter": "python",
   "pygments_lexer": "ipython3",
   "version": "3.8.10"
  },
  "orig_nbformat": 4
 },
 "nbformat": 4,
 "nbformat_minor": 2
}
